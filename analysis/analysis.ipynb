{
 "cells": [
  {
   "cell_type": "code",
   "execution_count": 2,
   "id": "7d57076d",
   "metadata": {},
   "outputs": [
    {
     "name": "stdout",
     "output_type": "stream",
     "text": [
      "Requirement already satisfied: scipy in c:\\users\\subhol\\appdata\\local\\miniconda3\\envs\\deploy_credit\\lib\\site-packages (1.15.3)\n",
      "Requirement already satisfied: numpy<2.5,>=1.23.5 in c:\\users\\subhol\\appdata\\local\\miniconda3\\envs\\deploy_credit\\lib\\site-packages (from scipy) (2.2.6)\n",
      "Note: you may need to restart the kernel to use updated packages.\n"
     ]
    }
   ],
   "source": [
    "%pip install scipy\n",
    "\n",
    "# to handle datasets\n",
    "import pandas as pd\n",
    "import numpy as np\n",
    "\n",
    "# for plotting\n",
    "import matplotlib.pyplot as plt\n",
    "import seaborn as sns\n",
    "\n",
    "# for the yeo-johnson transformation\n",
    "import scipy.stats as stats\n",
    "\n",
    "# to display all the columns of the dataframe in the notebook\n",
    "pd.pandas.set_option('display.max_columns', None)"
   ]
  },
  {
   "cell_type": "code",
   "execution_count": 46,
   "id": "5fdc0c5a",
   "metadata": {},
   "outputs": [
    {
     "name": "stdout",
     "output_type": "stream",
     "text": [
      "(29167, 28)\n"
     ]
    },
    {
     "data": {
      "application/vnd.microsoft.datawrangler.viewer.v0+json": {
       "columns": [
        {
         "name": "index",
         "rawType": "int64",
         "type": "integer"
        },
        {
         "name": "Credit Line",
         "rawType": "int64",
         "type": "integer"
        },
        {
         "name": "Initial Score",
         "rawType": "int64",
         "type": "integer"
        },
        {
         "name": "Recommended Line",
         "rawType": "int64",
         "type": "integer"
        },
        {
         "name": "AgentID",
         "rawType": "object",
         "type": "string"
        },
        {
         "name": "Number Inquiries",
         "rawType": "float64",
         "type": "float"
        },
        {
         "name": "Worst Rating Des",
         "rawType": "object",
         "type": "unknown"
        },
        {
         "name": "Year Last Check",
         "rawType": "float64",
         "type": "float"
        },
        {
         "name": "Major Derog Num",
         "rawType": "float64",
         "type": "float"
        },
        {
         "name": "Satisfactory Num",
         "rawType": "float64",
         "type": "float"
        },
        {
         "name": "Year at Address",
         "rawType": "float64",
         "type": "float"
        },
        {
         "name": "Bank Reference",
         "rawType": "float64",
         "type": "float"
        },
        {
         "name": "Fin Co Ref",
         "rawType": "float64",
         "type": "float"
        },
        {
         "name": "Dept Store Ref",
         "rawType": "float64",
         "type": "float"
        },
        {
         "name": "Bank Dda Ref",
         "rawType": "float64",
         "type": "float"
        },
        {
         "name": "Bank Save Ref",
         "rawType": "float64",
         "type": "float"
        },
        {
         "name": "Credit Card Ref",
         "rawType": "float64",
         "type": "float"
        },
        {
         "name": "Region",
         "rawType": "object",
         "type": "string"
        },
        {
         "name": "Avg Monthly Balance",
         "rawType": "int64",
         "type": "integer"
        },
        {
         "name": "Total Amount Purchased",
         "rawType": "int64",
         "type": "integer"
        },
        {
         "name": "Total Service Charge Revenue",
         "rawType": "int64",
         "type": "integer"
        },
        {
         "name": "Profit",
         "rawType": "float64",
         "type": "float"
        },
        {
         "name": "Delinquent Lev 1",
         "rawType": "int64",
         "type": "integer"
        },
        {
         "name": "Delinquent Lev 2",
         "rawType": "int64",
         "type": "integer"
        },
        {
         "name": "Delinquent Lev 3",
         "rawType": "int64",
         "type": "integer"
        },
        {
         "name": "Amount Lost",
         "rawType": "float64",
         "type": "float"
        },
        {
         "name": "age",
         "rawType": "float64",
         "type": "float"
        },
        {
         "name": "Residential Status",
         "rawType": "object",
         "type": "unknown"
        },
        {
         "name": "Status",
         "rawType": "object",
         "type": "string"
        }
       ],
       "ref": "be583c81-0787-4360-9e7c-76a2b4a41489",
       "rows": [
        [
         "0",
         "500",
         "463",
         "500",
         "A24",
         "98.0",
         "3 satisfactory ratings",
         "1.0",
         "0.0",
         "3.0",
         "10.0",
         "1.0",
         null,
         null,
         "1.0",
         "1.0",
         "1.0",
         "Eleven",
         "18",
         "444",
         "1",
         "9.88",
         "0",
         "0",
         "0",
         "0.0",
         "34.0",
         "Own Home",
         "OK"
        ],
        [
         "1",
         "2500",
         "321",
         "1",
         "A76",
         null,
         null,
         null,
         null,
         null,
         null,
         null,
         null,
         null,
         null,
         null,
         null,
         "Eleven",
         "25",
         "285",
         "2",
         "7.7",
         "1",
         "0",
         "0",
         "0.0",
         null,
         null,
         "OK"
        ],
        [
         "2",
         "500",
         "331",
         "500",
         "A66",
         "98.0",
         "1 satisfactory rating",
         "1.0",
         "0.0",
         "1.0",
         "23.0",
         "1.0",
         null,
         null,
         "1.0",
         "1.0",
         "1.0",
         "Eleven",
         "123",
         "1471",
         "3",
         "32.42",
         "0",
         "0",
         "0",
         "0.0",
         "25.0",
         "Other",
         "OK"
        ],
        [
         "3",
         "1000",
         "370",
         "1",
         "A79",
         null,
         null,
         null,
         null,
         null,
         null,
         null,
         null,
         null,
         null,
         null,
         null,
         "Eleven",
         "31",
         "85",
         "6",
         "7.7",
         "2",
         "1",
         "0",
         "0.0",
         "46.0",
         null,
         "OK"
        ],
        [
         "4",
         "1000",
         "399",
         "500",
         "A29",
         null,
         null,
         null,
         null,
         null,
         null,
         null,
         null,
         null,
         null,
         null,
         null,
         "Eleven",
         "21",
         "196",
         "0",
         "3.92",
         "0",
         "0",
         "0",
         "0.0",
         "65.0",
         null,
         "OK"
        ]
       ],
       "shape": {
        "columns": 28,
        "rows": 5
       }
      },
      "text/html": [
       "<div>\n",
       "<style scoped>\n",
       "    .dataframe tbody tr th:only-of-type {\n",
       "        vertical-align: middle;\n",
       "    }\n",
       "\n",
       "    .dataframe tbody tr th {\n",
       "        vertical-align: top;\n",
       "    }\n",
       "\n",
       "    .dataframe thead th {\n",
       "        text-align: right;\n",
       "    }\n",
       "</style>\n",
       "<table border=\"1\" class=\"dataframe\">\n",
       "  <thead>\n",
       "    <tr style=\"text-align: right;\">\n",
       "      <th></th>\n",
       "      <th>Credit Line</th>\n",
       "      <th>Initial Score</th>\n",
       "      <th>Recommended Line</th>\n",
       "      <th>AgentID</th>\n",
       "      <th>Number Inquiries</th>\n",
       "      <th>Worst Rating Des</th>\n",
       "      <th>Year Last Check</th>\n",
       "      <th>Major Derog Num</th>\n",
       "      <th>Satisfactory Num</th>\n",
       "      <th>Year at Address</th>\n",
       "      <th>Bank Reference</th>\n",
       "      <th>Fin Co Ref</th>\n",
       "      <th>Dept Store Ref</th>\n",
       "      <th>Bank Dda Ref</th>\n",
       "      <th>Bank Save Ref</th>\n",
       "      <th>Credit Card Ref</th>\n",
       "      <th>Region</th>\n",
       "      <th>Avg Monthly Balance</th>\n",
       "      <th>Total Amount Purchased</th>\n",
       "      <th>Total Service Charge Revenue</th>\n",
       "      <th>Profit</th>\n",
       "      <th>Delinquent Lev 1</th>\n",
       "      <th>Delinquent Lev 2</th>\n",
       "      <th>Delinquent Lev 3</th>\n",
       "      <th>Amount Lost</th>\n",
       "      <th>age</th>\n",
       "      <th>Residential Status</th>\n",
       "      <th>Status</th>\n",
       "    </tr>\n",
       "  </thead>\n",
       "  <tbody>\n",
       "    <tr>\n",
       "      <th>0</th>\n",
       "      <td>500</td>\n",
       "      <td>463</td>\n",
       "      <td>500</td>\n",
       "      <td>A24</td>\n",
       "      <td>98.0</td>\n",
       "      <td>3 satisfactory ratings</td>\n",
       "      <td>1.0</td>\n",
       "      <td>0.0</td>\n",
       "      <td>3.0</td>\n",
       "      <td>10.0</td>\n",
       "      <td>1.0</td>\n",
       "      <td>NaN</td>\n",
       "      <td>NaN</td>\n",
       "      <td>1.0</td>\n",
       "      <td>1.0</td>\n",
       "      <td>1.0</td>\n",
       "      <td>Eleven</td>\n",
       "      <td>18</td>\n",
       "      <td>444</td>\n",
       "      <td>1</td>\n",
       "      <td>9.88</td>\n",
       "      <td>0</td>\n",
       "      <td>0</td>\n",
       "      <td>0</td>\n",
       "      <td>0.0</td>\n",
       "      <td>34.0</td>\n",
       "      <td>Own Home</td>\n",
       "      <td>OK</td>\n",
       "    </tr>\n",
       "    <tr>\n",
       "      <th>1</th>\n",
       "      <td>2500</td>\n",
       "      <td>321</td>\n",
       "      <td>1</td>\n",
       "      <td>A76</td>\n",
       "      <td>NaN</td>\n",
       "      <td>NaN</td>\n",
       "      <td>NaN</td>\n",
       "      <td>NaN</td>\n",
       "      <td>NaN</td>\n",
       "      <td>NaN</td>\n",
       "      <td>NaN</td>\n",
       "      <td>NaN</td>\n",
       "      <td>NaN</td>\n",
       "      <td>NaN</td>\n",
       "      <td>NaN</td>\n",
       "      <td>NaN</td>\n",
       "      <td>Eleven</td>\n",
       "      <td>25</td>\n",
       "      <td>285</td>\n",
       "      <td>2</td>\n",
       "      <td>7.70</td>\n",
       "      <td>1</td>\n",
       "      <td>0</td>\n",
       "      <td>0</td>\n",
       "      <td>0.0</td>\n",
       "      <td>NaN</td>\n",
       "      <td>NaN</td>\n",
       "      <td>OK</td>\n",
       "    </tr>\n",
       "    <tr>\n",
       "      <th>2</th>\n",
       "      <td>500</td>\n",
       "      <td>331</td>\n",
       "      <td>500</td>\n",
       "      <td>A66</td>\n",
       "      <td>98.0</td>\n",
       "      <td>1 satisfactory rating</td>\n",
       "      <td>1.0</td>\n",
       "      <td>0.0</td>\n",
       "      <td>1.0</td>\n",
       "      <td>23.0</td>\n",
       "      <td>1.0</td>\n",
       "      <td>NaN</td>\n",
       "      <td>NaN</td>\n",
       "      <td>1.0</td>\n",
       "      <td>1.0</td>\n",
       "      <td>1.0</td>\n",
       "      <td>Eleven</td>\n",
       "      <td>123</td>\n",
       "      <td>1471</td>\n",
       "      <td>3</td>\n",
       "      <td>32.42</td>\n",
       "      <td>0</td>\n",
       "      <td>0</td>\n",
       "      <td>0</td>\n",
       "      <td>0.0</td>\n",
       "      <td>25.0</td>\n",
       "      <td>Other</td>\n",
       "      <td>OK</td>\n",
       "    </tr>\n",
       "    <tr>\n",
       "      <th>3</th>\n",
       "      <td>1000</td>\n",
       "      <td>370</td>\n",
       "      <td>1</td>\n",
       "      <td>A79</td>\n",
       "      <td>NaN</td>\n",
       "      <td>NaN</td>\n",
       "      <td>NaN</td>\n",
       "      <td>NaN</td>\n",
       "      <td>NaN</td>\n",
       "      <td>NaN</td>\n",
       "      <td>NaN</td>\n",
       "      <td>NaN</td>\n",
       "      <td>NaN</td>\n",
       "      <td>NaN</td>\n",
       "      <td>NaN</td>\n",
       "      <td>NaN</td>\n",
       "      <td>Eleven</td>\n",
       "      <td>31</td>\n",
       "      <td>85</td>\n",
       "      <td>6</td>\n",
       "      <td>7.70</td>\n",
       "      <td>2</td>\n",
       "      <td>1</td>\n",
       "      <td>0</td>\n",
       "      <td>0.0</td>\n",
       "      <td>46.0</td>\n",
       "      <td>NaN</td>\n",
       "      <td>OK</td>\n",
       "    </tr>\n",
       "    <tr>\n",
       "      <th>4</th>\n",
       "      <td>1000</td>\n",
       "      <td>399</td>\n",
       "      <td>500</td>\n",
       "      <td>A29</td>\n",
       "      <td>NaN</td>\n",
       "      <td>NaN</td>\n",
       "      <td>NaN</td>\n",
       "      <td>NaN</td>\n",
       "      <td>NaN</td>\n",
       "      <td>NaN</td>\n",
       "      <td>NaN</td>\n",
       "      <td>NaN</td>\n",
       "      <td>NaN</td>\n",
       "      <td>NaN</td>\n",
       "      <td>NaN</td>\n",
       "      <td>NaN</td>\n",
       "      <td>Eleven</td>\n",
       "      <td>21</td>\n",
       "      <td>196</td>\n",
       "      <td>0</td>\n",
       "      <td>3.92</td>\n",
       "      <td>0</td>\n",
       "      <td>0</td>\n",
       "      <td>0</td>\n",
       "      <td>0.0</td>\n",
       "      <td>65.0</td>\n",
       "      <td>NaN</td>\n",
       "      <td>OK</td>\n",
       "    </tr>\n",
       "  </tbody>\n",
       "</table>\n",
       "</div>"
      ],
      "text/plain": [
       "   Credit Line  Initial Score  Recommended Line AgentID  Number Inquiries  \\\n",
       "0          500            463               500     A24              98.0   \n",
       "1         2500            321                 1     A76               NaN   \n",
       "2          500            331               500     A66              98.0   \n",
       "3         1000            370                 1     A79               NaN   \n",
       "4         1000            399               500     A29               NaN   \n",
       "\n",
       "         Worst Rating Des  Year Last Check  Major Derog Num  Satisfactory Num  \\\n",
       "0  3 satisfactory ratings              1.0              0.0               3.0   \n",
       "1                     NaN              NaN              NaN               NaN   \n",
       "2   1 satisfactory rating              1.0              0.0               1.0   \n",
       "3                     NaN              NaN              NaN               NaN   \n",
       "4                     NaN              NaN              NaN               NaN   \n",
       "\n",
       "   Year at Address  Bank Reference  Fin Co Ref  Dept Store Ref  Bank Dda Ref  \\\n",
       "0             10.0             1.0         NaN             NaN           1.0   \n",
       "1              NaN             NaN         NaN             NaN           NaN   \n",
       "2             23.0             1.0         NaN             NaN           1.0   \n",
       "3              NaN             NaN         NaN             NaN           NaN   \n",
       "4              NaN             NaN         NaN             NaN           NaN   \n",
       "\n",
       "   Bank Save Ref  Credit Card Ref  Region  Avg Monthly Balance  \\\n",
       "0            1.0              1.0  Eleven                   18   \n",
       "1            NaN              NaN  Eleven                   25   \n",
       "2            1.0              1.0  Eleven                  123   \n",
       "3            NaN              NaN  Eleven                   31   \n",
       "4            NaN              NaN  Eleven                   21   \n",
       "\n",
       "   Total Amount Purchased  Total Service Charge Revenue  Profit  \\\n",
       "0                     444                             1    9.88   \n",
       "1                     285                             2    7.70   \n",
       "2                    1471                             3   32.42   \n",
       "3                      85                             6    7.70   \n",
       "4                     196                             0    3.92   \n",
       "\n",
       "   Delinquent Lev 1  Delinquent Lev 2  Delinquent Lev 3  Amount Lost   age  \\\n",
       "0                 0                 0                 0          0.0  34.0   \n",
       "1                 1                 0                 0          0.0   NaN   \n",
       "2                 0                 0                 0          0.0  25.0   \n",
       "3                 2                 1                 0          0.0  46.0   \n",
       "4                 0                 0                 0          0.0  65.0   \n",
       "\n",
       "  Residential Status Status  \n",
       "0           Own Home     OK  \n",
       "1                NaN     OK  \n",
       "2              Other     OK  \n",
       "3                NaN     OK  \n",
       "4                NaN     OK  "
      ]
     },
     "execution_count": 46,
     "metadata": {},
     "output_type": "execute_result"
    }
   ],
   "source": [
    "# load dataset\n",
    "data = pd.read_csv(r\"D:\\Datasets & Files\\cred.csv\")\n",
    "\n",
    "# rows and columns of the data\n",
    "print(data.shape)\n",
    "\n",
    "# visualise the dataset\n",
    "data.head()"
   ]
  },
  {
   "cell_type": "code",
   "execution_count": 4,
   "id": "26372c81",
   "metadata": {},
   "outputs": [
    {
     "data": {
      "text/plain": [
       "100"
      ]
     },
     "execution_count": 4,
     "metadata": {},
     "output_type": "execute_result"
    }
   ],
   "source": [
    "data['AgentID'].nunique()"
   ]
  },
  {
   "cell_type": "code",
   "execution_count": 47,
   "id": "ee1e2a51",
   "metadata": {},
   "outputs": [],
   "source": [
    "# drop id, it is just a number given to identify each house\n",
    "data.drop('AgentID', axis=1, inplace=True)"
   ]
  },
  {
   "cell_type": "code",
   "execution_count": 48,
   "id": "7cdab163",
   "metadata": {},
   "outputs": [],
   "source": [
    "data['Status'] = data['Status'].replace('Bad Debt', 'Closed')"
   ]
  },
  {
   "cell_type": "code",
   "execution_count": 7,
   "id": "972c720e",
   "metadata": {},
   "outputs": [
    {
     "data": {
      "application/vnd.microsoft.datawrangler.viewer.v0+json": {
       "columns": [
        {
         "name": "index",
         "rawType": "int64",
         "type": "integer"
        },
        {
         "name": "Credit Line",
         "rawType": "int64",
         "type": "integer"
        },
        {
         "name": "Initial Score",
         "rawType": "int64",
         "type": "integer"
        },
        {
         "name": "Recommended Line",
         "rawType": "int64",
         "type": "integer"
        },
        {
         "name": "Number Inquiries",
         "rawType": "float64",
         "type": "float"
        },
        {
         "name": "Worst Rating Des",
         "rawType": "object",
         "type": "unknown"
        },
        {
         "name": "Year Last Check",
         "rawType": "float64",
         "type": "float"
        },
        {
         "name": "Major Derog Num",
         "rawType": "float64",
         "type": "float"
        },
        {
         "name": "Satisfactory Num",
         "rawType": "float64",
         "type": "float"
        },
        {
         "name": "Year at Address",
         "rawType": "float64",
         "type": "float"
        },
        {
         "name": "Bank Reference",
         "rawType": "float64",
         "type": "float"
        },
        {
         "name": "Fin Co Ref",
         "rawType": "float64",
         "type": "float"
        },
        {
         "name": "Dept Store Ref",
         "rawType": "float64",
         "type": "float"
        },
        {
         "name": "Bank Dda Ref",
         "rawType": "float64",
         "type": "float"
        },
        {
         "name": "Bank Save Ref",
         "rawType": "float64",
         "type": "float"
        },
        {
         "name": "Credit Card Ref",
         "rawType": "float64",
         "type": "float"
        },
        {
         "name": "Region",
         "rawType": "object",
         "type": "string"
        },
        {
         "name": "Avg Monthly Balance",
         "rawType": "int64",
         "type": "integer"
        },
        {
         "name": "Total Amount Purchased",
         "rawType": "int64",
         "type": "integer"
        },
        {
         "name": "Total Service Charge Revenue",
         "rawType": "int64",
         "type": "integer"
        },
        {
         "name": "Profit",
         "rawType": "float64",
         "type": "float"
        },
        {
         "name": "Delinquent Lev 1",
         "rawType": "int64",
         "type": "integer"
        },
        {
         "name": "Delinquent Lev 2",
         "rawType": "int64",
         "type": "integer"
        },
        {
         "name": "Delinquent Lev 3",
         "rawType": "int64",
         "type": "integer"
        },
        {
         "name": "Amount Lost",
         "rawType": "float64",
         "type": "float"
        },
        {
         "name": "age",
         "rawType": "float64",
         "type": "float"
        },
        {
         "name": "Residential Status",
         "rawType": "object",
         "type": "unknown"
        },
        {
         "name": "Status",
         "rawType": "object",
         "type": "string"
        }
       ],
       "ref": "8416fd01-84c2-4e81-a7ed-e55e9825aa5f",
       "rows": [
        [
         "0",
         "500",
         "463",
         "500",
         "98.0",
         "3 satisfactory ratings",
         "1.0",
         "0.0",
         "3.0",
         "10.0",
         "1.0",
         null,
         null,
         "1.0",
         "1.0",
         "1.0",
         "Eleven",
         "18",
         "444",
         "1",
         "9.88",
         "0",
         "0",
         "0",
         "0.0",
         "34.0",
         "Own Home",
         "OK"
        ],
        [
         "1",
         "2500",
         "321",
         "1",
         null,
         null,
         null,
         null,
         null,
         null,
         null,
         null,
         null,
         null,
         null,
         null,
         "Eleven",
         "25",
         "285",
         "2",
         "7.7",
         "1",
         "0",
         "0",
         "0.0",
         null,
         null,
         "OK"
        ],
        [
         "2",
         "500",
         "331",
         "500",
         "98.0",
         "1 satisfactory rating",
         "1.0",
         "0.0",
         "1.0",
         "23.0",
         "1.0",
         null,
         null,
         "1.0",
         "1.0",
         "1.0",
         "Eleven",
         "123",
         "1471",
         "3",
         "32.42",
         "0",
         "0",
         "0",
         "0.0",
         "25.0",
         "Other",
         "OK"
        ],
        [
         "3",
         "1000",
         "370",
         "1",
         null,
         null,
         null,
         null,
         null,
         null,
         null,
         null,
         null,
         null,
         null,
         null,
         "Eleven",
         "31",
         "85",
         "6",
         "7.7",
         "2",
         "1",
         "0",
         "0.0",
         "46.0",
         null,
         "OK"
        ],
        [
         "4",
         "1000",
         "399",
         "500",
         null,
         null,
         null,
         null,
         null,
         null,
         null,
         null,
         null,
         null,
         null,
         null,
         "Eleven",
         "21",
         "196",
         "0",
         "3.92",
         "0",
         "0",
         "0",
         "0.0",
         "65.0",
         null,
         "OK"
        ]
       ],
       "shape": {
        "columns": 27,
        "rows": 5
       }
      },
      "text/html": [
       "<div>\n",
       "<style scoped>\n",
       "    .dataframe tbody tr th:only-of-type {\n",
       "        vertical-align: middle;\n",
       "    }\n",
       "\n",
       "    .dataframe tbody tr th {\n",
       "        vertical-align: top;\n",
       "    }\n",
       "\n",
       "    .dataframe thead th {\n",
       "        text-align: right;\n",
       "    }\n",
       "</style>\n",
       "<table border=\"1\" class=\"dataframe\">\n",
       "  <thead>\n",
       "    <tr style=\"text-align: right;\">\n",
       "      <th></th>\n",
       "      <th>Credit Line</th>\n",
       "      <th>Initial Score</th>\n",
       "      <th>Recommended Line</th>\n",
       "      <th>Number Inquiries</th>\n",
       "      <th>Worst Rating Des</th>\n",
       "      <th>Year Last Check</th>\n",
       "      <th>Major Derog Num</th>\n",
       "      <th>Satisfactory Num</th>\n",
       "      <th>Year at Address</th>\n",
       "      <th>Bank Reference</th>\n",
       "      <th>Fin Co Ref</th>\n",
       "      <th>Dept Store Ref</th>\n",
       "      <th>Bank Dda Ref</th>\n",
       "      <th>Bank Save Ref</th>\n",
       "      <th>Credit Card Ref</th>\n",
       "      <th>Region</th>\n",
       "      <th>Avg Monthly Balance</th>\n",
       "      <th>Total Amount Purchased</th>\n",
       "      <th>Total Service Charge Revenue</th>\n",
       "      <th>Profit</th>\n",
       "      <th>Delinquent Lev 1</th>\n",
       "      <th>Delinquent Lev 2</th>\n",
       "      <th>Delinquent Lev 3</th>\n",
       "      <th>Amount Lost</th>\n",
       "      <th>age</th>\n",
       "      <th>Residential Status</th>\n",
       "      <th>Status</th>\n",
       "    </tr>\n",
       "  </thead>\n",
       "  <tbody>\n",
       "    <tr>\n",
       "      <th>0</th>\n",
       "      <td>500</td>\n",
       "      <td>463</td>\n",
       "      <td>500</td>\n",
       "      <td>98.0</td>\n",
       "      <td>3 satisfactory ratings</td>\n",
       "      <td>1.0</td>\n",
       "      <td>0.0</td>\n",
       "      <td>3.0</td>\n",
       "      <td>10.0</td>\n",
       "      <td>1.0</td>\n",
       "      <td>NaN</td>\n",
       "      <td>NaN</td>\n",
       "      <td>1.0</td>\n",
       "      <td>1.0</td>\n",
       "      <td>1.0</td>\n",
       "      <td>Eleven</td>\n",
       "      <td>18</td>\n",
       "      <td>444</td>\n",
       "      <td>1</td>\n",
       "      <td>9.88</td>\n",
       "      <td>0</td>\n",
       "      <td>0</td>\n",
       "      <td>0</td>\n",
       "      <td>0.0</td>\n",
       "      <td>34.0</td>\n",
       "      <td>Own Home</td>\n",
       "      <td>OK</td>\n",
       "    </tr>\n",
       "    <tr>\n",
       "      <th>1</th>\n",
       "      <td>2500</td>\n",
       "      <td>321</td>\n",
       "      <td>1</td>\n",
       "      <td>NaN</td>\n",
       "      <td>NaN</td>\n",
       "      <td>NaN</td>\n",
       "      <td>NaN</td>\n",
       "      <td>NaN</td>\n",
       "      <td>NaN</td>\n",
       "      <td>NaN</td>\n",
       "      <td>NaN</td>\n",
       "      <td>NaN</td>\n",
       "      <td>NaN</td>\n",
       "      <td>NaN</td>\n",
       "      <td>NaN</td>\n",
       "      <td>Eleven</td>\n",
       "      <td>25</td>\n",
       "      <td>285</td>\n",
       "      <td>2</td>\n",
       "      <td>7.70</td>\n",
       "      <td>1</td>\n",
       "      <td>0</td>\n",
       "      <td>0</td>\n",
       "      <td>0.0</td>\n",
       "      <td>NaN</td>\n",
       "      <td>NaN</td>\n",
       "      <td>OK</td>\n",
       "    </tr>\n",
       "    <tr>\n",
       "      <th>2</th>\n",
       "      <td>500</td>\n",
       "      <td>331</td>\n",
       "      <td>500</td>\n",
       "      <td>98.0</td>\n",
       "      <td>1 satisfactory rating</td>\n",
       "      <td>1.0</td>\n",
       "      <td>0.0</td>\n",
       "      <td>1.0</td>\n",
       "      <td>23.0</td>\n",
       "      <td>1.0</td>\n",
       "      <td>NaN</td>\n",
       "      <td>NaN</td>\n",
       "      <td>1.0</td>\n",
       "      <td>1.0</td>\n",
       "      <td>1.0</td>\n",
       "      <td>Eleven</td>\n",
       "      <td>123</td>\n",
       "      <td>1471</td>\n",
       "      <td>3</td>\n",
       "      <td>32.42</td>\n",
       "      <td>0</td>\n",
       "      <td>0</td>\n",
       "      <td>0</td>\n",
       "      <td>0.0</td>\n",
       "      <td>25.0</td>\n",
       "      <td>Other</td>\n",
       "      <td>OK</td>\n",
       "    </tr>\n",
       "    <tr>\n",
       "      <th>3</th>\n",
       "      <td>1000</td>\n",
       "      <td>370</td>\n",
       "      <td>1</td>\n",
       "      <td>NaN</td>\n",
       "      <td>NaN</td>\n",
       "      <td>NaN</td>\n",
       "      <td>NaN</td>\n",
       "      <td>NaN</td>\n",
       "      <td>NaN</td>\n",
       "      <td>NaN</td>\n",
       "      <td>NaN</td>\n",
       "      <td>NaN</td>\n",
       "      <td>NaN</td>\n",
       "      <td>NaN</td>\n",
       "      <td>NaN</td>\n",
       "      <td>Eleven</td>\n",
       "      <td>31</td>\n",
       "      <td>85</td>\n",
       "      <td>6</td>\n",
       "      <td>7.70</td>\n",
       "      <td>2</td>\n",
       "      <td>1</td>\n",
       "      <td>0</td>\n",
       "      <td>0.0</td>\n",
       "      <td>46.0</td>\n",
       "      <td>NaN</td>\n",
       "      <td>OK</td>\n",
       "    </tr>\n",
       "    <tr>\n",
       "      <th>4</th>\n",
       "      <td>1000</td>\n",
       "      <td>399</td>\n",
       "      <td>500</td>\n",
       "      <td>NaN</td>\n",
       "      <td>NaN</td>\n",
       "      <td>NaN</td>\n",
       "      <td>NaN</td>\n",
       "      <td>NaN</td>\n",
       "      <td>NaN</td>\n",
       "      <td>NaN</td>\n",
       "      <td>NaN</td>\n",
       "      <td>NaN</td>\n",
       "      <td>NaN</td>\n",
       "      <td>NaN</td>\n",
       "      <td>NaN</td>\n",
       "      <td>Eleven</td>\n",
       "      <td>21</td>\n",
       "      <td>196</td>\n",
       "      <td>0</td>\n",
       "      <td>3.92</td>\n",
       "      <td>0</td>\n",
       "      <td>0</td>\n",
       "      <td>0</td>\n",
       "      <td>0.0</td>\n",
       "      <td>65.0</td>\n",
       "      <td>NaN</td>\n",
       "      <td>OK</td>\n",
       "    </tr>\n",
       "  </tbody>\n",
       "</table>\n",
       "</div>"
      ],
      "text/plain": [
       "   Credit Line  Initial Score  Recommended Line  Number Inquiries  \\\n",
       "0          500            463               500              98.0   \n",
       "1         2500            321                 1               NaN   \n",
       "2          500            331               500              98.0   \n",
       "3         1000            370                 1               NaN   \n",
       "4         1000            399               500               NaN   \n",
       "\n",
       "         Worst Rating Des  Year Last Check  Major Derog Num  Satisfactory Num  \\\n",
       "0  3 satisfactory ratings              1.0              0.0               3.0   \n",
       "1                     NaN              NaN              NaN               NaN   \n",
       "2   1 satisfactory rating              1.0              0.0               1.0   \n",
       "3                     NaN              NaN              NaN               NaN   \n",
       "4                     NaN              NaN              NaN               NaN   \n",
       "\n",
       "   Year at Address  Bank Reference  Fin Co Ref  Dept Store Ref  Bank Dda Ref  \\\n",
       "0             10.0             1.0         NaN             NaN           1.0   \n",
       "1              NaN             NaN         NaN             NaN           NaN   \n",
       "2             23.0             1.0         NaN             NaN           1.0   \n",
       "3              NaN             NaN         NaN             NaN           NaN   \n",
       "4              NaN             NaN         NaN             NaN           NaN   \n",
       "\n",
       "   Bank Save Ref  Credit Card Ref  Region  Avg Monthly Balance  \\\n",
       "0            1.0              1.0  Eleven                   18   \n",
       "1            NaN              NaN  Eleven                   25   \n",
       "2            1.0              1.0  Eleven                  123   \n",
       "3            NaN              NaN  Eleven                   31   \n",
       "4            NaN              NaN  Eleven                   21   \n",
       "\n",
       "   Total Amount Purchased  Total Service Charge Revenue  Profit  \\\n",
       "0                     444                             1    9.88   \n",
       "1                     285                             2    7.70   \n",
       "2                    1471                             3   32.42   \n",
       "3                      85                             6    7.70   \n",
       "4                     196                             0    3.92   \n",
       "\n",
       "   Delinquent Lev 1  Delinquent Lev 2  Delinquent Lev 3  Amount Lost   age  \\\n",
       "0                 0                 0                 0          0.0  34.0   \n",
       "1                 1                 0                 0          0.0   NaN   \n",
       "2                 0                 0                 0          0.0  25.0   \n",
       "3                 2                 1                 0          0.0  46.0   \n",
       "4                 0                 0                 0          0.0  65.0   \n",
       "\n",
       "  Residential Status Status  \n",
       "0           Own Home     OK  \n",
       "1                NaN     OK  \n",
       "2              Other     OK  \n",
       "3                NaN     OK  \n",
       "4                NaN     OK  "
      ]
     },
     "execution_count": 7,
     "metadata": {},
     "output_type": "execute_result"
    }
   ],
   "source": [
    "data.head()"
   ]
  },
  {
   "cell_type": "code",
   "execution_count": 10,
   "id": "49f76778",
   "metadata": {},
   "outputs": [
    {
     "name": "stdout",
     "output_type": "stream",
     "text": [
      "Object `column` not found.\n"
     ]
    },
    {
     "data": {
      "text/plain": [
       "array(['OK', 'Closed'], dtype=object)"
      ]
     },
     "execution_count": 10,
     "metadata": {},
     "output_type": "execute_result"
    }
   ],
   "source": [
    "What are the categories in Status column?\n",
    "data['Status'].unique()\n",
    "\n"
   ]
  },
  {
   "cell_type": "code",
   "execution_count": 49,
   "id": "90b6832e",
   "metadata": {},
   "outputs": [
    {
     "data": {
      "text/plain": [
       "4"
      ]
     },
     "execution_count": 49,
     "metadata": {},
     "output_type": "execute_result"
    }
   ],
   "source": [
    "cat_vars = [var for var in data.columns if data[var].dtype == 'O']\n",
    "len(cat_vars)"
   ]
  },
  {
   "cell_type": "code",
   "execution_count": 52,
   "id": "d3657c40",
   "metadata": {},
   "outputs": [
    {
     "data": {
      "text/plain": [
       "['Worst Rating Des', 'Region', 'Residential Status']"
      ]
     },
     "execution_count": 52,
     "metadata": {},
     "output_type": "execute_result"
    }
   ],
   "source": [
    "cat_vars"
   ]
  },
  {
   "cell_type": "code",
   "execution_count": 51,
   "id": "1d824205",
   "metadata": {},
   "outputs": [],
   "source": [
    "cat_vars = [var for var in cat_vars if var != 'Status']"
   ]
  },
  {
   "cell_type": "code",
   "execution_count": 53,
   "id": "b6d86d29",
   "metadata": {},
   "outputs": [
    {
     "data": {
      "text/plain": [
       "24"
      ]
     },
     "execution_count": 53,
     "metadata": {},
     "output_type": "execute_result"
    }
   ],
   "source": [
    "num_vars = [\n",
    "    var for var in data.columns if var not in cat_vars \n",
    "]\n",
    "\n",
    "# number of numerical variables\n",
    "len(num_vars)"
   ]
  },
  {
   "cell_type": "code",
   "execution_count": 16,
   "id": "d22f1519",
   "metadata": {},
   "outputs": [
    {
     "data": {
      "text/plain": [
       "['Credit Line',\n",
       " 'Initial Score',\n",
       " 'Recommended Line',\n",
       " 'Number Inquiries',\n",
       " 'Year Last Check',\n",
       " 'Major Derog Num',\n",
       " 'Satisfactory Num',\n",
       " 'Year at Address',\n",
       " 'Bank Reference',\n",
       " 'Fin Co Ref',\n",
       " 'Dept Store Ref',\n",
       " 'Bank Dda Ref',\n",
       " 'Bank Save Ref',\n",
       " 'Credit Card Ref',\n",
       " 'Avg Monthly Balance',\n",
       " 'Total Amount Purchased',\n",
       " 'Total Service Charge Revenue',\n",
       " 'Profit',\n",
       " 'Delinquent Lev 1',\n",
       " 'Delinquent Lev 2',\n",
       " 'Delinquent Lev 3',\n",
       " 'Amount Lost',\n",
       " 'age']"
      ]
     },
     "execution_count": 16,
     "metadata": {},
     "output_type": "execute_result"
    }
   ],
   "source": [
    "num_vars"
   ]
  },
  {
   "cell_type": "code",
   "execution_count": 54,
   "id": "f678164e",
   "metadata": {},
   "outputs": [
    {
     "data": {
      "application/vnd.microsoft.datawrangler.viewer.v0+json": {
       "columns": [
        {
         "name": "index",
         "rawType": "object",
         "type": "string"
        },
        {
         "name": "0",
         "rawType": "float64",
         "type": "float"
        }
       ],
       "ref": "3e9496fb-dee2-444c-b9cc-4432e2180ee5",
       "rows": [
        [
         "Fin Co Ref",
         "0.7510199883429903"
        ],
        [
         "Satisfactory Num",
         "0.6216614667260946"
        ],
        [
         "Major Derog Num",
         "0.6216614667260946"
        ],
        [
         "Bank Save Ref",
         "0.5837761854150239"
        ],
        [
         "Year Last Check",
         "0.5773648301162272"
        ],
        [
         "Number Inquiries",
         "0.5771591181815064"
        ],
        [
         "Worst Rating Des",
         "0.5723934583604758"
        ],
        [
         "Credit Card Ref",
         "0.5283711043302363"
        ],
        [
         "Dept Store Ref",
         "0.5078341961806151"
        ],
        [
         "Bank Dda Ref",
         "0.4907601055987932"
        ],
        [
         "Year at Address",
         "0.43463503274248294"
        ],
        [
         "Residential Status",
         "0.4088181849350293"
        ],
        [
         "Bank Reference",
         "0.4032296773751157"
        ],
        [
         "age",
         "0.021325470566050674"
        ]
       ],
       "shape": {
        "columns": 1,
        "rows": 14
       }
      },
      "text/plain": [
       "Fin Co Ref            0.751020\n",
       "Satisfactory Num      0.621661\n",
       "Major Derog Num       0.621661\n",
       "Bank Save Ref         0.583776\n",
       "Year Last Check       0.577365\n",
       "Number Inquiries      0.577159\n",
       "Worst Rating Des      0.572393\n",
       "Credit Card Ref       0.528371\n",
       "Dept Store Ref        0.507834\n",
       "Bank Dda Ref          0.490760\n",
       "Year at Address       0.434635\n",
       "Residential Status    0.408818\n",
       "Bank Reference        0.403230\n",
       "age                   0.021325\n",
       "dtype: float64"
      ]
     },
     "execution_count": 54,
     "metadata": {},
     "output_type": "execute_result"
    }
   ],
   "source": [
    "# make a list of the variables that contain missing values\n",
    "vars_with_na = [var for var in data.columns if data[var].isnull().sum() > 0]\n",
    "\n",
    "# determine percentage of missing values (expressed as decimals)\n",
    "# and display the result ordered by % of missin data\n",
    "\n",
    "data[vars_with_na].isnull().mean().sort_values(ascending=False)"
   ]
  },
  {
   "cell_type": "code",
   "execution_count": 55,
   "id": "aee5138c",
   "metadata": {},
   "outputs": [],
   "source": [
    "# Remove columns with more than 40% missing values\n",
    "vars_to_drop = [\n",
    "    var for var in data.columns\n",
    "    if data[var].isnull().mean() > 0.4\n",
    "]\n"
   ]
  },
  {
   "cell_type": "code",
   "execution_count": 56,
   "id": "d8cf5265",
   "metadata": {},
   "outputs": [
    {
     "name": "stdout",
     "output_type": "stream",
     "text": [
      "Number of discrete variables:  12\n"
     ]
    }
   ],
   "source": [
    "#  let's male a list of discrete variables\n",
    "discrete_vars = [var for var in num_vars if len(\n",
    "    data[var].unique()) < 20 ]\n",
    "\n",
    "\n",
    "print('Number of discrete variables: ', len(discrete_vars))"
   ]
  },
  {
   "cell_type": "code",
   "execution_count": 57,
   "id": "691f426e",
   "metadata": {},
   "outputs": [
    {
     "name": "stdout",
     "output_type": "stream",
     "text": [
      "Number of continuous variables:  9\n"
     ]
    },
    {
     "data": {
      "application/vnd.microsoft.datawrangler.viewer.v0+json": {
       "columns": [
        {
         "name": "index",
         "rawType": "int64",
         "type": "integer"
        },
        {
         "name": "Credit Line",
         "rawType": "int64",
         "type": "integer"
        },
        {
         "name": "Initial Score",
         "rawType": "int64",
         "type": "integer"
        },
        {
         "name": "Recommended Line",
         "rawType": "int64",
         "type": "integer"
        },
        {
         "name": "Avg Monthly Balance",
         "rawType": "int64",
         "type": "integer"
        },
        {
         "name": "Total Amount Purchased",
         "rawType": "int64",
         "type": "integer"
        },
        {
         "name": "Total Service Charge Revenue",
         "rawType": "int64",
         "type": "integer"
        },
        {
         "name": "Profit",
         "rawType": "float64",
         "type": "float"
        },
        {
         "name": "Amount Lost",
         "rawType": "float64",
         "type": "float"
        },
        {
         "name": "age",
         "rawType": "float64",
         "type": "float"
        }
       ],
       "ref": "573782c1-bb06-4f4c-a0d8-20400f05ca5b",
       "rows": [
        [
         "0",
         "500",
         "463",
         "500",
         "18",
         "444",
         "1",
         "9.88",
         "0.0",
         "34.0"
        ],
        [
         "1",
         "2500",
         "321",
         "1",
         "25",
         "285",
         "2",
         "7.7",
         "0.0",
         null
        ],
        [
         "2",
         "500",
         "331",
         "500",
         "123",
         "1471",
         "3",
         "32.42",
         "0.0",
         "25.0"
        ],
        [
         "3",
         "1000",
         "370",
         "1",
         "31",
         "85",
         "6",
         "7.7",
         "0.0",
         "46.0"
        ],
        [
         "4",
         "1000",
         "399",
         "500",
         "21",
         "196",
         "0",
         "3.92",
         "0.0",
         "65.0"
        ]
       ],
       "shape": {
        "columns": 9,
        "rows": 5
       }
      },
      "text/html": [
       "<div>\n",
       "<style scoped>\n",
       "    .dataframe tbody tr th:only-of-type {\n",
       "        vertical-align: middle;\n",
       "    }\n",
       "\n",
       "    .dataframe tbody tr th {\n",
       "        vertical-align: top;\n",
       "    }\n",
       "\n",
       "    .dataframe thead th {\n",
       "        text-align: right;\n",
       "    }\n",
       "</style>\n",
       "<table border=\"1\" class=\"dataframe\">\n",
       "  <thead>\n",
       "    <tr style=\"text-align: right;\">\n",
       "      <th></th>\n",
       "      <th>Credit Line</th>\n",
       "      <th>Initial Score</th>\n",
       "      <th>Recommended Line</th>\n",
       "      <th>Avg Monthly Balance</th>\n",
       "      <th>Total Amount Purchased</th>\n",
       "      <th>Total Service Charge Revenue</th>\n",
       "      <th>Profit</th>\n",
       "      <th>Amount Lost</th>\n",
       "      <th>age</th>\n",
       "    </tr>\n",
       "  </thead>\n",
       "  <tbody>\n",
       "    <tr>\n",
       "      <th>0</th>\n",
       "      <td>500</td>\n",
       "      <td>463</td>\n",
       "      <td>500</td>\n",
       "      <td>18</td>\n",
       "      <td>444</td>\n",
       "      <td>1</td>\n",
       "      <td>9.88</td>\n",
       "      <td>0.0</td>\n",
       "      <td>34.0</td>\n",
       "    </tr>\n",
       "    <tr>\n",
       "      <th>1</th>\n",
       "      <td>2500</td>\n",
       "      <td>321</td>\n",
       "      <td>1</td>\n",
       "      <td>25</td>\n",
       "      <td>285</td>\n",
       "      <td>2</td>\n",
       "      <td>7.70</td>\n",
       "      <td>0.0</td>\n",
       "      <td>NaN</td>\n",
       "    </tr>\n",
       "    <tr>\n",
       "      <th>2</th>\n",
       "      <td>500</td>\n",
       "      <td>331</td>\n",
       "      <td>500</td>\n",
       "      <td>123</td>\n",
       "      <td>1471</td>\n",
       "      <td>3</td>\n",
       "      <td>32.42</td>\n",
       "      <td>0.0</td>\n",
       "      <td>25.0</td>\n",
       "    </tr>\n",
       "    <tr>\n",
       "      <th>3</th>\n",
       "      <td>1000</td>\n",
       "      <td>370</td>\n",
       "      <td>1</td>\n",
       "      <td>31</td>\n",
       "      <td>85</td>\n",
       "      <td>6</td>\n",
       "      <td>7.70</td>\n",
       "      <td>0.0</td>\n",
       "      <td>46.0</td>\n",
       "    </tr>\n",
       "    <tr>\n",
       "      <th>4</th>\n",
       "      <td>1000</td>\n",
       "      <td>399</td>\n",
       "      <td>500</td>\n",
       "      <td>21</td>\n",
       "      <td>196</td>\n",
       "      <td>0</td>\n",
       "      <td>3.92</td>\n",
       "      <td>0.0</td>\n",
       "      <td>65.0</td>\n",
       "    </tr>\n",
       "  </tbody>\n",
       "</table>\n",
       "</div>"
      ],
      "text/plain": [
       "   Credit Line  Initial Score  Recommended Line  Avg Monthly Balance  \\\n",
       "0          500            463               500                   18   \n",
       "1         2500            321                 1                   25   \n",
       "2          500            331               500                  123   \n",
       "3         1000            370                 1                   31   \n",
       "4         1000            399               500                   21   \n",
       "\n",
       "   Total Amount Purchased  Total Service Charge Revenue  Profit  Amount Lost  \\\n",
       "0                     444                             1    9.88          0.0   \n",
       "1                     285                             2    7.70          0.0   \n",
       "2                    1471                             3   32.42          0.0   \n",
       "3                      85                             6    7.70          0.0   \n",
       "4                     196                             0    3.92          0.0   \n",
       "\n",
       "    age  \n",
       "0  34.0  \n",
       "1   NaN  \n",
       "2  25.0  \n",
       "3  46.0  \n",
       "4  65.0  "
      ]
     },
     "execution_count": 57,
     "metadata": {},
     "output_type": "execute_result"
    }
   ],
   "source": [
    "# make list of continuous variables\n",
    "cont_vars = [var for var in num_vars if var not in discrete_vars and var not in vars_to_drop]\n",
    "\n",
    "print('Number of continuous variables: ', len(cont_vars))\n",
    "data[cont_vars].head()"
   ]
  },
  {
   "cell_type": "code",
   "execution_count": 33,
   "id": "a4406ead",
   "metadata": {},
   "outputs": [
    {
     "data": {
      "image/png": "[encoded data removed]",
      "text/plain": [
       "<Figure size 1500x1500 with 9 Axes>"
      ]
     },
     "metadata": {},
     "output_type": "display_data"
    }
   ],
   "source": [
    "\n",
    "data[cont_vars].hist(bins=30, figsize=(15,15))\n",
    "plt.show()"
   ]
  },
  {
   "cell_type": "code",
   "execution_count": 34,
   "id": "02cc7d4a",
   "metadata": {},
   "outputs": [],
   "source": [
    "skewed = [\n",
    "    'Amount Lost', 'Profit', 'Total Service Charge Revenue',\n",
    "    'Total Amount Purchased', 'Avg Monthly Balance', 'Credit Line',\n",
    "    'Recommended Line'\n",
    "]"
   ]
  },
  {
   "cell_type": "code",
   "execution_count": 58,
   "id": "d9b31da4",
   "metadata": {},
   "outputs": [],
   "source": [
    "cont_vars = [var for var in cont_vars if var not in vars_to_drop]\n"
   ]
  },
  {
   "cell_type": "code",
   "execution_count": 59,
   "id": "44cb9d06",
   "metadata": {},
   "outputs": [
    {
     "data": {
      "image/png": "[encoded data removed]",
      "text/plain": [
       "<Figure size 1500x1500 with 9 Axes>"
      ]
     },
     "metadata": {},
     "output_type": "display_data"
    }
   ],
   "source": [
    "# Let's go ahead and analyse the distributions of the variables\n",
    "# after applying a yeo-johnson transformation\n",
    "\n",
    "# temporary copy of the data\n",
    "tmp = data[[var for var in data.columns if var not in vars_to_drop]]\n",
    "tmp = tmp.fillna(0)\n",
    "for var in cont_vars:\n",
    "\n",
    "    # transform the variable - yeo-johsnon\n",
    "    tmp[var], param = stats.yeojohnson(tmp[var])\n",
    "\n",
    "    \n",
    "# plot the histograms of the transformed variables\n",
    "tmp[cont_vars].hist(bins=30, figsize=(15,15))\n",
    "plt.show()"
   ]
  },
  {
   "cell_type": "code",
   "execution_count": 60,
   "id": "a61be606",
   "metadata": {},
   "outputs": [],
   "source": [
    "data = data[[var for var in data.columns if var not in vars_to_drop]]"
   ]
  },
  {
   "cell_type": "code",
   "execution_count": 65,
   "id": "5dcc3f04",
   "metadata": {},
   "outputs": [
    {
     "data": {
      "application/vnd.microsoft.datawrangler.viewer.v0+json": {
       "columns": [
        {
         "name": "index",
         "rawType": "int64",
         "type": "integer"
        },
        {
         "name": "Region",
         "rawType": "object",
         "type": "string"
        }
       ],
       "ref": "e05009c1-921e-4c4c-9d4d-1010de8802b3",
       "rows": [
        [
         "0",
         "Eleven"
        ],
        [
         "1",
         "Eleven"
        ],
        [
         "2",
         "Eleven"
        ],
        [
         "3",
         "Eleven"
        ],
        [
         "4",
         "Eleven"
        ]
       ],
       "shape": {
        "columns": 1,
        "rows": 5
       }
      },
      "text/html": [
       "<div>\n",
       "<style scoped>\n",
       "    .dataframe tbody tr th:only-of-type {\n",
       "        vertical-align: middle;\n",
       "    }\n",
       "\n",
       "    .dataframe tbody tr th {\n",
       "        vertical-align: top;\n",
       "    }\n",
       "\n",
       "    .dataframe thead th {\n",
       "        text-align: right;\n",
       "    }\n",
       "</style>\n",
       "<table border=\"1\" class=\"dataframe\">\n",
       "  <thead>\n",
       "    <tr style=\"text-align: right;\">\n",
       "      <th></th>\n",
       "      <th>Region</th>\n",
       "    </tr>\n",
       "  </thead>\n",
       "  <tbody>\n",
       "    <tr>\n",
       "      <th>0</th>\n",
       "      <td>Eleven</td>\n",
       "    </tr>\n",
       "    <tr>\n",
       "      <th>1</th>\n",
       "      <td>Eleven</td>\n",
       "    </tr>\n",
       "    <tr>\n",
       "      <th>2</th>\n",
       "      <td>Eleven</td>\n",
       "    </tr>\n",
       "    <tr>\n",
       "      <th>3</th>\n",
       "      <td>Eleven</td>\n",
       "    </tr>\n",
       "    <tr>\n",
       "      <th>4</th>\n",
       "      <td>Eleven</td>\n",
       "    </tr>\n",
       "  </tbody>\n",
       "</table>\n",
       "</div>"
      ],
      "text/plain": [
       "   Region\n",
       "0  Eleven\n",
       "1  Eleven\n",
       "2  Eleven\n",
       "3  Eleven\n",
       "4  Eleven"
      ]
     },
     "execution_count": 65,
     "metadata": {},
     "output_type": "execute_result"
    }
   ],
   "source": [
    "# let's visualise the values of the categorical variables\n",
    "cat_vars= [var for var in cat_vars if var not in vars_to_drop]\n",
    "data[cat_vars].head()"
   ]
  },
  {
   "cell_type": "code",
   "execution_count": 67,
   "id": "eb3bfe5d",
   "metadata": {},
   "outputs": [
    {
     "data": {
      "application/vnd.microsoft.datawrangler.viewer.v0+json": {
       "columns": [
        {
         "name": "index",
         "rawType": "int64",
         "type": "integer"
        },
        {
         "name": "Credit Line",
         "rawType": "int64",
         "type": "integer"
        },
        {
         "name": "Initial Score",
         "rawType": "int64",
         "type": "integer"
        },
        {
         "name": "Recommended Line",
         "rawType": "int64",
         "type": "integer"
        },
        {
         "name": "Region",
         "rawType": "object",
         "type": "string"
        },
        {
         "name": "Avg Monthly Balance",
         "rawType": "int64",
         "type": "integer"
        },
        {
         "name": "Total Amount Purchased",
         "rawType": "int64",
         "type": "integer"
        },
        {
         "name": "Total Service Charge Revenue",
         "rawType": "int64",
         "type": "integer"
        },
        {
         "name": "Profit",
         "rawType": "float64",
         "type": "float"
        },
        {
         "name": "Delinquent Lev 1",
         "rawType": "int64",
         "type": "integer"
        },
        {
         "name": "Delinquent Lev 2",
         "rawType": "int64",
         "type": "integer"
        },
        {
         "name": "Delinquent Lev 3",
         "rawType": "int64",
         "type": "integer"
        },
        {
         "name": "Amount Lost",
         "rawType": "float64",
         "type": "float"
        },
        {
         "name": "age",
         "rawType": "float64",
         "type": "float"
        },
        {
         "name": "Status",
         "rawType": "object",
         "type": "string"
        }
       ],
       "ref": "a95133ea-5b1a-4fbd-a923-8cad0d3e1ec4",
       "rows": [
        [
         "0",
         "500",
         "463",
         "500",
         "Eleven",
         "18",
         "444",
         "1",
         "9.88",
         "0",
         "0",
         "0",
         "0.0",
         "34.0",
         "OK"
        ],
        [
         "1",
         "2500",
         "321",
         "1",
         "Eleven",
         "25",
         "285",
         "2",
         "7.7",
         "1",
         "0",
         "0",
         "0.0",
         null,
         "OK"
        ],
        [
         "2",
         "500",
         "331",
         "500",
         "Eleven",
         "123",
         "1471",
         "3",
         "32.42",
         "0",
         "0",
         "0",
         "0.0",
         "25.0",
         "OK"
        ],
        [
         "3",
         "1000",
         "370",
         "1",
         "Eleven",
         "31",
         "85",
         "6",
         "7.7",
         "2",
         "1",
         "0",
         "0.0",
         "46.0",
         "OK"
        ],
        [
         "4",
         "1000",
         "399",
         "500",
         "Eleven",
         "21",
         "196",
         "0",
         "3.92",
         "0",
         "0",
         "0",
         "0.0",
         "65.0",
         "OK"
        ]
       ],
       "shape": {
        "columns": 14,
        "rows": 5
       }
      },
      "text/html": [
       "<div>\n",
       "<style scoped>\n",
       "    .dataframe tbody tr th:only-of-type {\n",
       "        vertical-align: middle;\n",
       "    }\n",
       "\n",
       "    .dataframe tbody tr th {\n",
       "        vertical-align: top;\n",
       "    }\n",
       "\n",
       "    .dataframe thead th {\n",
       "        text-align: right;\n",
       "    }\n",
       "</style>\n",
       "<table border=\"1\" class=\"dataframe\">\n",
       "  <thead>\n",
       "    <tr style=\"text-align: right;\">\n",
       "      <th></th>\n",
       "      <th>Credit Line</th>\n",
       "      <th>Initial Score</th>\n",
       "      <th>Recommended Line</th>\n",
       "      <th>Region</th>\n",
       "      <th>Avg Monthly Balance</th>\n",
       "      <th>Total Amount Purchased</th>\n",
       "      <th>Total Service Charge Revenue</th>\n",
       "      <th>Profit</th>\n",
       "      <th>Delinquent Lev 1</th>\n",
       "      <th>Delinquent Lev 2</th>\n",
       "      <th>Delinquent Lev 3</th>\n",
       "      <th>Amount Lost</th>\n",
       "      <th>age</th>\n",
       "      <th>Status</th>\n",
       "    </tr>\n",
       "  </thead>\n",
       "  <tbody>\n",
       "    <tr>\n",
       "      <th>0</th>\n",
       "      <td>500</td>\n",
       "      <td>463</td>\n",
       "      <td>500</td>\n",
       "      <td>Eleven</td>\n",
       "      <td>18</td>\n",
       "      <td>444</td>\n",
       "      <td>1</td>\n",
       "      <td>9.88</td>\n",
       "      <td>0</td>\n",
       "      <td>0</td>\n",
       "      <td>0</td>\n",
       "      <td>0.0</td>\n",
       "      <td>34.0</td>\n",
       "      <td>OK</td>\n",
       "    </tr>\n",
       "    <tr>\n",
       "      <th>1</th>\n",
       "      <td>2500</td>\n",
       "      <td>321</td>\n",
       "      <td>1</td>\n",
       "      <td>Eleven</td>\n",
       "      <td>25</td>\n",
       "      <td>285</td>\n",
       "      <td>2</td>\n",
       "      <td>7.70</td>\n",
       "      <td>1</td>\n",
       "      <td>0</td>\n",
       "      <td>0</td>\n",
       "      <td>0.0</td>\n",
       "      <td>NaN</td>\n",
       "      <td>OK</td>\n",
       "    </tr>\n",
       "    <tr>\n",
       "      <th>2</th>\n",
       "      <td>500</td>\n",
       "      <td>331</td>\n",
       "      <td>500</td>\n",
       "      <td>Eleven</td>\n",
       "      <td>123</td>\n",
       "      <td>1471</td>\n",
       "      <td>3</td>\n",
       "      <td>32.42</td>\n",
       "      <td>0</td>\n",
       "      <td>0</td>\n",
       "      <td>0</td>\n",
       "      <td>0.0</td>\n",
       "      <td>25.0</td>\n",
       "      <td>OK</td>\n",
       "    </tr>\n",
       "    <tr>\n",
       "      <th>3</th>\n",
       "      <td>1000</td>\n",
       "      <td>370</td>\n",
       "      <td>1</td>\n",
       "      <td>Eleven</td>\n",
       "      <td>31</td>\n",
       "      <td>85</td>\n",
       "      <td>6</td>\n",
       "      <td>7.70</td>\n",
       "      <td>2</td>\n",
       "      <td>1</td>\n",
       "      <td>0</td>\n",
       "      <td>0.0</td>\n",
       "      <td>46.0</td>\n",
       "      <td>OK</td>\n",
       "    </tr>\n",
       "    <tr>\n",
       "      <th>4</th>\n",
       "      <td>1000</td>\n",
       "      <td>399</td>\n",
       "      <td>500</td>\n",
       "      <td>Eleven</td>\n",
       "      <td>21</td>\n",
       "      <td>196</td>\n",
       "      <td>0</td>\n",
       "      <td>3.92</td>\n",
       "      <td>0</td>\n",
       "      <td>0</td>\n",
       "      <td>0</td>\n",
       "      <td>0.0</td>\n",
       "      <td>65.0</td>\n",
       "      <td>OK</td>\n",
       "    </tr>\n",
       "  </tbody>\n",
       "</table>\n",
       "</div>"
      ],
      "text/plain": [
       "   Credit Line  Initial Score  Recommended Line  Region  Avg Monthly Balance  \\\n",
       "0          500            463               500  Eleven                   18   \n",
       "1         2500            321                 1  Eleven                   25   \n",
       "2          500            331               500  Eleven                  123   \n",
       "3         1000            370                 1  Eleven                   31   \n",
       "4         1000            399               500  Eleven                   21   \n",
       "\n",
       "   Total Amount Purchased  Total Service Charge Revenue  Profit  \\\n",
       "0                     444                             1    9.88   \n",
       "1                     285                             2    7.70   \n",
       "2                    1471                             3   32.42   \n",
       "3                      85                             6    7.70   \n",
       "4                     196                             0    3.92   \n",
       "\n",
       "   Delinquent Lev 1  Delinquent Lev 2  Delinquent Lev 3  Amount Lost   age  \\\n",
       "0                 0                 0                 0          0.0  34.0   \n",
       "1                 1                 0                 0          0.0   NaN   \n",
       "2                 0                 0                 0          0.0  25.0   \n",
       "3                 2                 1                 0          0.0  46.0   \n",
       "4                 0                 0                 0          0.0  65.0   \n",
       "\n",
       "  Status  \n",
       "0     OK  \n",
       "1     OK  \n",
       "2     OK  \n",
       "3     OK  \n",
       "4     OK  "
      ]
     },
     "execution_count": 67,
     "metadata": {},
     "output_type": "execute_result"
    }
   ],
   "source": [
    "data.head()"
   ]
  },
  {
   "cell_type": "code",
   "execution_count": null,
   "id": "3c19a17a",
   "metadata": {},
   "outputs": [
    {
     "data": {
      "application/vnd.microsoft.datawrangler.viewer.v0+json": {
       "columns": [
        {
         "name": "index",
         "rawType": "object",
         "type": "string"
        },
        {
         "name": "0",
         "rawType": "int64",
         "type": "integer"
        }
       ],
       "ref": "92c1271b-38f9-4dbb-ab43-855ae9d6acd8",
       "rows": [
        [
         "Region",
         "13"
        ]
       ],
       "shape": {
        "columns": 1,
        "rows": 1
       }
      },
      "text/plain": [
       "Region    13\n",
       "dtype: int64"
      ]
     },
     "execution_count": 68,
     "metadata": {},
     "output_type": "execute_result"
    }
   ],
   "source": [
    "data[cat_vars].nunique()"
   ]
  },
  {
   "cell_type": "markdown",
   "id": "7520607a",
   "metadata": {},
   "source": [
    "Feature Engineering"
   ]
  },
  {
   "cell_type": "code",
   "execution_count": 69,
   "id": "7635b1f3",
   "metadata": {},
   "outputs": [],
   "source": [
    "import scipy.stats as stats\n",
    "\n",
    "# to divide train and test set\n",
    "from sklearn.model_selection import train_test_split\n",
    "\n",
    "# feature scaling\n",
    "from sklearn.preprocessing import MinMaxScaler\n",
    "\n",
    "# to save the trained scaler class\n",
    "import joblib\n",
    "\n",
    "# to visualise al the columns in the dataframe\n",
    "pd.pandas.set_option('display.max_columns', None)"
   ]
  },
  {
   "cell_type": "code",
   "execution_count": 70,
   "id": "51d990ff",
   "metadata": {},
   "outputs": [
    {
     "data": {
      "text/plain": [
       "((26250, 13), (2917, 13))"
      ]
     },
     "execution_count": 70,
     "metadata": {},
     "output_type": "execute_result"
    }
   ],
   "source": [
    "X_train, X_test, y_train, y_test = train_test_split(\n",
    "    data.drop(['Status'], axis=1), # predictive variables\n",
    "    data['Status'], # target\n",
    "    test_size=0.1, # portion of dataset to allocate to test set\n",
    "    random_state=0, # we are setting the seed here\n",
    ")\n",
    "\n",
    "X_train.shape, X_test.shape"
   ]
  },
  {
   "cell_type": "code",
   "execution_count": 72,
   "id": "f54366e7",
   "metadata": {},
   "outputs": [],
   "source": [
    "num_vars = X_train.select_dtypes(include=['number']).columns.tolist()"
   ]
  },
  {
   "cell_type": "code",
   "execution_count": 73,
   "id": "bf9f703d",
   "metadata": {},
   "outputs": [
    {
     "data": {
      "text/plain": [
       "['Credit Line',\n",
       " 'Initial Score',\n",
       " 'Recommended Line',\n",
       " 'Avg Monthly Balance',\n",
       " 'Total Amount Purchased',\n",
       " 'Total Service Charge Revenue',\n",
       " 'Profit',\n",
       " 'Delinquent Lev 1',\n",
       " 'Delinquent Lev 2',\n",
       " 'Delinquent Lev 3',\n",
       " 'Amount Lost',\n",
       " 'age']"
      ]
     },
     "execution_count": 73,
     "metadata": {},
     "output_type": "execute_result"
    }
   ],
   "source": [
    "num_vars"
   ]
  },
  {
   "cell_type": "code",
   "execution_count": 74,
   "id": "56263ed0",
   "metadata": {},
   "outputs": [
    {
     "name": "stdout",
     "output_type": "stream",
     "text": [
      "['Region']\n"
     ]
    }
   ],
   "source": [
    "cat_vars = X_train.select_dtypes(include=['object', 'category']).columns.tolist()\n",
    "print(cat_vars)"
   ]
  },
  {
   "cell_type": "code",
   "execution_count": 75,
   "id": "2a5ef0d4",
   "metadata": {},
   "outputs": [
    {
     "data": {
      "application/vnd.microsoft.datawrangler.viewer.v0+json": {
       "columns": [
        {
         "name": "index",
         "rawType": "object",
         "type": "string"
        },
        {
         "name": "0",
         "rawType": "float64",
         "type": "float"
        }
       ],
       "ref": "e0b54490-1d29-423b-bfb1-bd657e389190",
       "rows": [
        [
         "age",
         "0.021371428571428572"
        ]
       ],
       "shape": {
        "columns": 1,
        "rows": 1
       }
      },
      "text/plain": [
       "age    0.021371\n",
       "dtype: float64"
      ]
     },
     "execution_count": 75,
     "metadata": {},
     "output_type": "execute_result"
    }
   ],
   "source": [
    "# make a list with the numerical variables that contain missing values\n",
    "vars_with_na = [\n",
    "    var for var in num_vars\n",
    "    if X_train[var].isnull().sum() > 0\n",
    "]\n",
    "\n",
    "# print percentage of missing values per variable\n",
    "X_train[vars_with_na].isnull().mean()"
   ]
  },
  {
   "cell_type": "code",
   "execution_count": 76,
   "id": "302b0be3",
   "metadata": {},
   "outputs": [
    {
     "name": "stdout",
     "output_type": "stream",
     "text": [
      "age 39.23539258048192\n"
     ]
    },
    {
     "name": "stderr",
     "output_type": "stream",
     "text": [
      "C:\\Users\\subhol\\AppData\\Local\\Temp\\ipykernel_37652\\484834183.py:16: FutureWarning: A value is trying to be set on a copy of a DataFrame or Series through chained assignment using an inplace method.\n",
      "The behavior will change in pandas 3.0. This inplace method will never work because the intermediate object on which we are setting values always behaves as a copy.\n",
      "\n",
      "For example, when doing 'df[col].method(value, inplace=True)', try using 'df.method({col: value}, inplace=True)' or df[col] = df[col].method(value) instead, to perform the operation inplace on the original object.\n",
      "\n",
      "\n",
      "  X_train[var].fillna(mean_val, inplace=True)\n",
      "C:\\Users\\subhol\\AppData\\Local\\Temp\\ipykernel_37652\\484834183.py:17: FutureWarning: A value is trying to be set on a copy of a DataFrame or Series through chained assignment using an inplace method.\n",
      "The behavior will change in pandas 3.0. This inplace method will never work because the intermediate object on which we are setting values always behaves as a copy.\n",
      "\n",
      "For example, when doing 'df[col].method(value, inplace=True)', try using 'df.method({col: value}, inplace=True)' or df[col] = df[col].method(value) instead, to perform the operation inplace on the original object.\n",
      "\n",
      "\n",
      "  X_test[var].fillna(mean_val, inplace=True)\n"
     ]
    },
    {
     "data": {
      "application/vnd.microsoft.datawrangler.viewer.v0+json": {
       "columns": [
        {
         "name": "index",
         "rawType": "object",
         "type": "string"
        },
        {
         "name": "0",
         "rawType": "int64",
         "type": "integer"
        }
       ],
       "ref": "f50dc61f-7793-463b-b879-f9236138ace4",
       "rows": [
        [
         "age",
         "0"
        ]
       ],
       "shape": {
        "columns": 1,
        "rows": 1
       }
      },
      "text/plain": [
       "age    0\n",
       "dtype: int64"
      ]
     },
     "execution_count": 76,
     "metadata": {},
     "output_type": "execute_result"
    }
   ],
   "source": [
    "# replace missing values as we described above\n",
    "\n",
    "for var in vars_with_na:\n",
    "\n",
    "    # calculate the mean using the train set\n",
    "    mean_val = X_train[var].mean()\n",
    "    \n",
    "    print(var, mean_val)\n",
    "\n",
    "    # add binary missing indicator (in train and test)\n",
    "    X_train[var + '_na'] = np.where(X_train[var].isnull(), 1, 0)\n",
    "    X_test[var + '_na'] = np.where(X_test[var].isnull(), 1, 0)\n",
    "\n",
    "    # replace missing values by the mean\n",
    "    # (in train and test)\n",
    "    X_train[var].fillna(mean_val, inplace=True)\n",
    "    X_test[var].fillna(mean_val, inplace=True)\n",
    "\n",
    "# check that we have no more missing values in the engineered variables\n",
    "X_train[vars_with_na].isnull().sum()"
   ]
  }
 ],
 "metadata": {
  "kernelspec": {
   "display_name": "deploy_credit",
   "language": "python",
   "name": "python3"
  },
  "language_info": {
   "codemirror_mode": {
    "name": "ipython",
    "version": 3
   },
   "file_extension": ".py",
   "mimetype": "text/x-python",
   "name": "python",
   "nbconvert_exporter": "python",
   "pygments_lexer": "ipython3",
   "version": "3.12.10"
  }
 },
 "nbformat": 4,
 "nbformat_minor": 5
}
